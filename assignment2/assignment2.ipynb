{
  "cells": [
    {
      "cell_type": "code",
      "execution_count": null,
      "metadata": {
        "colab": {
          "base_uri": "https://localhost:8080/"
        },
        "id": "enRaLQhMOii2",
        "outputId": "d77dc1c3-b79b-4939-d901-3618a0d1377f"
      },
      "outputs": [
        {
          "name": "stdout",
          "output_type": "stream",
          "text": [
            "---- BEFORE CLEANING ----\n",
            "Shape: (649, 33)\n",
            "Duplicate Rows: 0\n",
            "Total Missing Values: 0\n",
            "\n",
            "---- AFTER CLEANING ----\n",
            "Shape: (396, 33)\n",
            "Duplicate Rows: 0\n",
            "Total Missing Values: 0\n",
            "Rows Removed (outliers + duplicates): 253\n",
            "\n",
            "✅ Cleaned dataset saved as 'StudentsPerformance_Cleaned.csv'\n"
          ]
        }
      ],
      "source": [
        "# ----------------------------------------------\n",
        "# DATA SCIENCE ASSIGNMENT - WEEK 2\n",
        "# Data Cleaning & Preprocessing\n",
        "# ----------------------------------------------\n",
        "\n",
        "# Step 1: Import necessary libraries\n",
        "import pandas as pd\n",
        "\n",
        "# Step 2: Load the dataset\n",
        "df = pd.read_csv('/content/students.csv', sep=';')\n",
        "print(\"---- BEFORE CLEANING ----\")\n",
        "print(f\"Shape: {df.shape}\")\n",
        "print(f\"Duplicate Rows: {df.duplicated().sum()}\")\n",
        "print(f\"Total Missing Values: {df.isnull().sum().sum()}\")\n",
        "\n",
        "# Step 3: Remove duplicate rows\n",
        "df = df.drop_duplicates()\n",
        "\n",
        "# Step 4: Handle missing values (numeric = mean, categorical = mode)\n",
        "for col in df.columns:\n",
        "    if df[col].dtype == 'object':  # categorical\n",
        "        df[col] = df[col].fillna(df[col].mode()[0])\n",
        "    else:  # numeric\n",
        "        df[col] = df[col].fillna(df[col].mean())\n",
        "\n",
        "# Step 5: Remove outliers using IQR method\n",
        "numeric_cols = df.select_dtypes(include=['float64', 'int64']).columns\n",
        "initial_rows = df.shape[0]\n",
        "\n",
        "for col in numeric_cols:\n",
        "    Q1 = df[col].quantile(0.25)\n",
        "    Q3 = df[col].quantile(0.75)\n",
        "    IQR = Q3 - Q1\n",
        "    df = df[(df[col] >= Q1 - 1.5 * IQR) & (df[col] <= Q3 + 1.5 * IQR)]\n",
        "\n",
        "rows_after = df.shape[0]\n",
        "\n",
        "# Step 6: After cleaning summary\n",
        "print(\"\\n---- AFTER CLEANING ----\")\n",
        "print(f\"Shape: {df.shape}\")\n",
        "print(f\"Duplicate Rows: {df.duplicated().sum()}\")\n",
        "print(f\"Total Missing Values: {df.isnull().sum().sum()}\")\n",
        "print(f\"Rows Removed (outliers + duplicates): {initial_rows - rows_after}\")\n",
        "\n"
      ]
    }
  ],
  "metadata": {
    "colab": {
      "provenance": []
    },
    "kernelspec": {
      "display_name": "Python 3",
      "name": "python3"
    },
    "language_info": {
      "name": "python"
    }
  },
  "nbformat": 4,
  "nbformat_minor": 0
}
